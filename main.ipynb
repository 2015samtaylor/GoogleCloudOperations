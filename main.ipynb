{
 "cells": [
  {
   "cell_type": "code",
   "execution_count": 1,
   "metadata": {},
   "outputs": [
    {
     "name": "stderr",
     "output_type": "stream",
     "text": [
      "C:\\Users\\amy.hardy\\AppData\\Roaming\\Python\\Python312\\site-packages\\pysftp\\__init__.py:61: UserWarning: Failed to load HostKeys from C:\\Users\\amy.hardy\\.ssh\\known_hosts.  You will need to explicitly load HostKeys (cnopts.hostkeys.load(filename)) or disableHostKey checking (cnopts.hostkeys = None).\n",
      "  warnings.warn(wmsg, UserWarning)\n"
     ]
    }
   ],
   "source": [
    "%load_ext autoreload\n",
    "%autoreload 2\n",
    "import json \n",
    "import pysftp\n",
    "import os\n",
    "import pandas_gbq\n",
    "import pandas as pd\n",
    "from modules.buckets import *\n",
    "from modules.reproducibility import *\n",
    "from modules.stacking_bluff_asd import *\n",
    "from modules.sftp_operations import *\n",
    "import logging\n",
    "\n",
    "clear_logging_handlers()\n",
    "\n",
    "#Configure loggging\n",
    "logging.basicConfig(filename='BigQuery.log', level=logging.INFO,\n",
    "                   format='%(asctime)s - %(message)s', datefmt='%d-%b-%y %H:%M:%S')\n",
    "logging.info('\\n\\n-------------New Big Query Logging Instance')\n",
    "\n",
    "# Set the GOOGLE_APPLICATION_CREDENTIALS environment variable in order to interact, import the SFTP password from the same file\n",
    "os.environ[\"GOOGLE_APPLICATION_CREDENTIALS\"] = 'powerschool-420113-db919282054b.json'\n",
    "with open('powerschool-420113-db919282054b.json') as json_file:\n",
    "    j = json.load(json_file) \n",
    "    clever_password = j['clever_password']\n",
    "    clever_username = j['clever_username']\n",
    "    clever_host = j['clever_host']\n",
    "    \n",
    "# ----------------------------------------------------------\n",
    "#Need to make this portion to where it assesses all files in the dir recursively. \n",
    "def main(SFTP_folder_name):\n",
    "\n",
    "    SFTP_folder_name  = initial_schema_check(SFTP_folder_name)\n",
    "    print(SFTP_folder_name)\n",
    "\n",
    "    instance = Create(\n",
    "                project_id='powerschool-420113',\n",
    "                location = 'us-south1',\n",
    "                bucket=f'{SFTP_folder_name}bucket-iotaschools-1',\n",
    "                local_dir = fr'S:\\SFTP\\{SFTP_folder_name}',\n",
    "                db = SFTP_folder_name,\n",
    "                append_or_replace='replace',\n",
    "                )\n",
    "    \n",
    "    instance.process()# Pass SFTP files into Bucket & then into Big Query tables\n",
    "\n",
    "\n",
    "#class instance could be populated within the module. \n",
    "# Would have to add in new connections within the modules itself, rather than instantiating\n",
    "#in the main script\n",
    "sftp_conn = SFTPConnection(\n",
    "    host=clever_host,\n",
    "    username=clever_username,\n",
    "    password=clever_password,\n",
    "    use_pool=False\n",
    ")\n",
    "\n",
    "#Make this modular, and inherit the sftp instance with the new class instance\n",
    "SFTP_conn_file_transfer(clever_sftp_folder_name='idm-sensitive-exports', \n",
    "                        local_folder_name=r'S:\\SFTP\\powerschool', \n",
    "                        sftp_conn, \n",
    "                        use_pool=False)\n",
    "\n",
    "\n",
    "\n",
    "\n",
    "#Clevers SFTP is coming across empty. Confirmed in Filezilla\n",
    "\n",
    "\n",
    "#roughly 4 mins to stack and send to new dir\n",
    "# directory_path_blf = r'S:\\SFTP\\powerschool_tpcsc'\n",
    "# directory_path_asd = r'S:\\SFTP\\powerschool'\n",
    "# output_directory = r'S:\\SFTP\\powerschool-combined'\n",
    "# concat_files_from_directories(directory_path_blf, directory_path_asd, output_directory)\n",
    "\n",
    "# main(\"powerschool_combined\")\n",
    "# main(\"EIS\")\n",
    "\n",
    "#Fix indentation of the logs\n",
    "#Implement new SFTP module"
   ]
  },
  {
   "cell_type": "code",
   "execution_count": null,
   "metadata": {},
   "outputs": [],
   "source": [
    "#By adding in Clevers stuff to ASD there will not be matches with BLF. \n",
    "#These must populate anyways. Change how the function works with intersection. \n",
    "#Bringing only like named files together. \n",
    "#Comes into question by adding in the additional google_passwords file. \n",
    "\n",
    "#Must see if it has BLF passwords and ASD, & then it can exist in the powerschool_combined folder \n",
    "#from the jump. It is dependent\n"
   ]
  },
  {
   "cell_type": "code",
   "execution_count": null,
   "metadata": {},
   "outputs": [],
   "source": [
    "import os\n",
    "import pandas as pd\n",
    "from modules.stacking_bluff_asd import *\n",
    "\n",
    "directory_path_blf = r'S:\\SFTP\\powerschool_tpcsc'\n",
    "directory_path_asd = r'S:\\SFTP\\powerschool'\n",
    "output_directory = r'S:\\SFTP\\powerschool_combined'\n",
    "\n",
    "concat_files_from_directories(directory_path_blf, directory_path_asd, output_directory)\n",
    "#roughly 4 mins to stack and send to new dir\n",
    "\n"
   ]
  }
 ],
 "metadata": {
  "kernelspec": {
   "display_name": "base",
   "language": "python",
   "name": "python3"
  },
  "language_info": {
   "codemirror_mode": {
    "name": "ipython",
    "version": 3
   },
   "file_extension": ".py",
   "mimetype": "text/x-python",
   "name": "python",
   "nbconvert_exporter": "python",
   "pygments_lexer": "ipython3",
   "version": "3.12.3"
  }
 },
 "nbformat": 4,
 "nbformat_minor": 2
}
