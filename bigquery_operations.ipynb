{
 "cells": [
  {
   "cell_type": "code",
   "execution_count": null,
   "metadata": {},
   "outputs": [],
   "source": [
    "%load_ext autoreload\n",
    "%autoreload 2\n",
    "import pysftp\n",
    "import os\n",
    "import pandas_gbq\n",
    "import pandas as pd\n",
    "from modules.buckets import *\n",
    "from modules.reproducibility import *\n",
    "from modules.stacking_bluff_asd import *\n",
    "from modules.sftp_ops import *\n",
    "import logging\n",
    "\n",
    "clear_logging_handlers()\n",
    "\n",
    "#Configure loggging\n",
    "logging.basicConfig(filename='logs/BigQuery.log', level=logging.INFO,\n",
    "                   format='%(asctime)s - %(message)s', datefmt='%d-%b-%y %H:%M:%S')\n",
    "logging.info('\\n\\n-------------New Big Query Logging Instance')\n",
    "\n",
    "# Set the GOOGLE_APPLICATION_CREDENTIALS environment variable in order to interact, import the SFTP password from the same file\n",
    "os.environ[\"GOOGLE_APPLICATION_CREDENTIALS\"] = 'powerschool-420113-db919282054b.json'\n",
    "    \n",
    "# ----------------------------------------------------------\n",
    "#Need to make this portion to where it assesses all files in the dir recursively. \n",
    "def main(SFTP_folder_name):\n",
    "\n",
    "    SFTP_folder_name  = initial_schema_check(SFTP_folder_name)\n",
    "    print(SFTP_folder_name)\n",
    "\n",
    "    instance = Create(\n",
    "                project_id='powerschool-420113',\n",
    "                location = 'us-central1',\n",
    "                bucket=f'{SFTP_folder_name}bucket-iotaschools-1',\n",
    "                local_dir = fr'S:\\SFTP\\{SFTP_folder_name}',\n",
    "                db = SFTP_folder_name,\n",
    "                append_or_replace='replace',\n",
    "                )\n",
    "    \n",
    "    instance.process()# Pass SFTP files into Bucket & then into Big Query tables\n",
    "\n",
    "#roughly 4 mins to stack and send to new dir\n",
    "directory_path_blf = r'S:\\SFTP\\powerschool_tpcsc'\n",
    "directory_path_asd = r'S:\\SFTP\\powerschool'\n",
    "output_directory = r'S:\\SFTP\\powerschool_combined'\n",
    "concat_files_from_directories(directory_path_blf, directory_path_asd, output_directory)\n",
    "\n",
    "main(\"powerschool_combined\")\n",
    "main(\"EIS\")\n",
    "logging.info('Process has reached the end\\n\\n')\n",
    "\n",
    "#Fix indentation of the logs\n",
    "#Implement new SFTP module"
   ]
  },
  {
   "cell_type": "code",
   "execution_count": 1,
   "metadata": {},
   "outputs": [
    {
     "data": {
      "text/html": [
       "<pre style=\"white-space:pre;overflow-x:auto;line-height:normal;font-family:Menlo,'DejaVu Sans Mono',consolas,'Courier New',monospace\"><span style=\"color: #808000; text-decoration-color: #808000; font-weight: bold\">/home/samuel_taylor/.local/lib/python3.10/site-packages/pysftp/__init__.py:</span><span style=\"color: #808000; text-decoration-color: #808000; font-weight: bold\">61</span><span style=\"color: #808000; text-decoration-color: #808000; font-weight: bold\"> UserWarning</span><span style=\"color: #808000; text-decoration-color: #808000\">: Failed to load HostKeys from /home/samuel_taylor/.ssh/known_hosts.  You will need to explicitly load HostKeys </span><span style=\"color: #808000; text-decoration-color: #808000; font-weight: bold\">(cnopts.hostkeys.load(</span><span style=\"color: #808000; text-decoration-color: #808000\">filename</span><span style=\"color: #808000; text-decoration-color: #808000; font-weight: bold\">))</span><span style=\"color: #808000; text-decoration-color: #808000\"> or disableHostKey checking </span><span style=\"color: #808000; text-decoration-color: #808000; font-weight: bold\">(</span><span style=\"color: #808000; text-decoration-color: #808000\">cnopts.hostkeys = </span><span style=\"color: #808000; text-decoration-color: #808000; font-style: italic\">None</span><span style=\"color: #808000; text-decoration-color: #808000; font-weight: bold\">)</span><span style=\"color: #808000; text-decoration-color: #808000\">.</span>\n",
       "</pre>\n"
      ],
      "text/plain": [
       "\u001b[1;33m/home/samuel_taylor/.local/lib/python3.10/site-packages/pysftp/\u001b[0m\u001b[1;33m__init__.py\u001b[0m\u001b[1;33m:\u001b[0m\u001b[1;33m61\u001b[0m\u001b[1;33m UserWarning\u001b[0m\u001b[33m: Failed to load HostKeys from \u001b[0m\u001b[33m/home/samuel_taylor/.ssh/\u001b[0m\u001b[33mknown_hosts.\u001b[0m\u001b[33m  You will need to explicitly load HostKeys \u001b[0m\u001b[1;33m(\u001b[0m\u001b[1;33mcnopts.hostkeys.load\u001b[0m\u001b[1;33m(\u001b[0m\u001b[33mfilename\u001b[0m\u001b[1;33m)\u001b[0m\u001b[1;33m)\u001b[0m\u001b[33m or disableHostKey checking \u001b[0m\u001b[1;33m(\u001b[0m\u001b[33mcnopts.hostkeys = \u001b[0m\u001b[3;33mNone\u001b[0m\u001b[1;33m)\u001b[0m\u001b[33m.\u001b[0m\n"
      ]
     },
     "metadata": {},
     "output_type": "display_data"
    },
    {
     "name": "stdout",
     "output_type": "stream",
     "text": [
      "[\u001b[34m2024-10-04T13:31:05.793-0700\u001b[0m] {\u001b[34msftp_utils.py:\u001b[0m82} INFO\u001b[0m - JSON file path: /home/samuel_taylor/airflow/git_directory/TN_operations/powerschool-420113-db919282054b.json\u001b[0m\n",
      "[\u001b[34m2024-10-04T13:31:05.796-0700\u001b[0m] {\u001b[34msftp_utils.py:\u001b[0m86} INFO\u001b[0m - Credentials loaded successfully.\u001b[0m\n"
     ]
    }
   ],
   "source": [
    "from modules.sftp_utils import *\n",
    "\n",
    "sftp_conn = SFTPConnection.setup_sftp_connection('clever_import')"
   ]
  },
  {
   "cell_type": "code",
   "execution_count": null,
   "metadata": {},
   "outputs": [],
   "source": []
  }
 ],
 "metadata": {
  "kernelspec": {
   "display_name": "Python 3",
   "language": "python",
   "name": "python3"
  },
  "language_info": {
   "codemirror_mode": {
    "name": "ipython",
    "version": 3
   },
   "file_extension": ".py",
   "mimetype": "text/x-python",
   "name": "python",
   "nbconvert_exporter": "python",
   "pygments_lexer": "ipython3",
   "version": "3.10.12"
  }
 },
 "nbformat": 4,
 "nbformat_minor": 2
}
