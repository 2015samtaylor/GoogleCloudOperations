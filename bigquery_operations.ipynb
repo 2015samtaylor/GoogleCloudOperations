{
 "cells": [
  {
   "cell_type": "code",
   "execution_count": 1,
   "metadata": {},
   "outputs": [
    {
     "name": "stderr",
     "output_type": "stream",
     "text": [
      "C:\\Users\\amy.hardy\\AppData\\Roaming\\Python\\Python312\\site-packages\\pysftp\\__init__.py:61: UserWarning: Failed to load HostKeys from C:\\Users\\amy.hardy\\.ssh\\known_hosts.  You will need to explicitly load HostKeys (cnopts.hostkeys.load(filename)) or disableHostKey checking (cnopts.hostkeys = None).\n",
      "  warnings.warn(wmsg, UserWarning)\n"
     ]
    },
    {
     "name": "stdout",
     "output_type": "stream",
     "text": [
      "misc_imports\n",
      "us-central1\n",
      "\n",
      "\n",
      "Bucket misc_importsbucket-iotaschools-1 created in us-central1 with STANDARD storage class.\n",
      "Local File S:\\SFTP\\misc_imports\\google-powerschool-students-passwords.csv was uploaded as a new file google-powerschool-students-passwords.csv in the bucket misc_importsbucket-iotaschools-1.\n",
      "Local File S:\\SFTP\\misc_imports\\google-students-passwords.csv was uploaded as a new file google-students-passwords.csv in the bucket misc_importsbucket-iotaschools-1.\n",
      "Local File S:\\SFTP\\misc_imports\\TN_options_report_2014.txt was uploaded as a new file TN_options_report_2014.txt in the bucket misc_importsbucket-iotaschools-1.\n",
      "misc_importsbucket-iotaschools-1\n",
      "Attempting to create table powerschool-420113.misc_imports.TN_options_report_2014 and send data for the first time\n",
      "Attempting to create table powerschool-420113.misc_imports.google-powerschool-students-passwords and send data for the first time\n",
      "Attempting to create table powerschool-420113.misc_imports.google-students-passwords and send data for the first time\n"
     ]
    }
   ],
   "source": [
    "%load_ext autoreload\n",
    "%autoreload 2\n",
    "import pysftp\n",
    "import os\n",
    "import pandas_gbq\n",
    "import pandas as pd\n",
    "from modules.buckets import *\n",
    "from modules.reproducibility import *\n",
    "from modules.stacking_bluff_asd import *\n",
    "from modules.sftp_ops import *\n",
    "import logging\n",
    "\n",
    "clear_logging_handlers()\n",
    "\n",
    "#Configure loggging\n",
    "logging.basicConfig(filename='logs/BigQuery.log', level=logging.INFO,\n",
    "                   format='%(asctime)s - %(message)s', datefmt='%d-%b-%y %H:%M:%S')\n",
    "logging.info('\\n\\n-------------New Big Query Logging Instance')\n",
    "\n",
    "# Set the GOOGLE_APPLICATION_CREDENTIALS environment variable in order to interact, import the SFTP password from the same file\n",
    "os.environ[\"GOOGLE_APPLICATION_CREDENTIALS\"] = 'powerschool-420113-db919282054b.json'\n",
    "    \n",
    "# ----------------------------------------------------------\n",
    "#Need to make this portion to where it assesses all files in the dir recursively. \n",
    "def main(SFTP_folder_name):\n",
    "\n",
    "    SFTP_folder_name  = initial_schema_check(SFTP_folder_name)\n",
    "    print(SFTP_folder_name)\n",
    "\n",
    "    instance = Create(\n",
    "                project_id='powerschool-420113',\n",
    "                location = 'us-central1',\n",
    "                bucket=f'{SFTP_folder_name}bucket-iotaschools-1',\n",
    "                local_dir = fr'S:\\SFTP\\{SFTP_folder_name}',\n",
    "                db = SFTP_folder_name,\n",
    "                append_or_replace='replace',\n",
    "                )\n",
    "    \n",
    "    instance.process()# Pass SFTP files into Bucket & then into Big Query tables\n",
    "\n",
    "#roughly 4 mins to stack and send to new dir\n",
    "# directory_path_blf = r'S:\\SFTP\\powerschool_tpcsc'\n",
    "# directory_path_asd = r'S:\\SFTP\\powerschool'\n",
    "# output_directory = r'S:\\SFTP\\powerschool_combined'\n",
    "# concat_files_from_directories(directory_path_blf, directory_path_asd, output_directory)\n",
    "\n",
    "# main(\"powerschool_combined\")\n",
    "# main(\"EIS\")\n",
    "main(\"misc_imports\")\n",
    "logging.info('Process has reached the end\\n\\n')\n",
    "\n",
    "#Fix indentation of the logs\n",
    "#Implement new SFTP module"
   ]
  },
  {
   "cell_type": "code",
   "execution_count": 5,
   "metadata": {},
   "outputs": [
    {
     "name": "stderr",
     "output_type": "stream",
     "text": [
      "<>:1: SyntaxWarning: invalid escape sequence '\\S'\n",
      "<>:1: SyntaxWarning: invalid escape sequence '\\S'\n",
      "C:\\Users\\amy.hardy\\AppData\\Local\\Temp\\2\\ipykernel_20460\\2731113439.py:1: SyntaxWarning: invalid escape sequence '\\S'\n",
      "  temp = pd.read_csv(\"S:\\SFTP\\misc_imports\\google-powerschool-students-passwords.csv\", header=None)\n"
     ]
    }
   ],
   "source": [
    "temp = pd.read_csv(\"S:\\SFTP\\misc_imports\\google-powerschool-students-passwords.csv\", header=None)\n",
    "# Manually rename the columns to \"student_number\", \"email\", and \"password\"\n",
    "temp.columns = [\"student_number\", \"email\", \"password\"]\n",
    "\n",
    "\n",
    "# upload_to_bq_table occurs within process. If the table_name = google-powerschool-students-passwords.csv\n",
    "\n",
    "#This stems back to read_file which is in reproducibility. \n",
    "#Catch that error. Give optional column names"
   ]
  }
 ],
 "metadata": {
  "kernelspec": {
   "display_name": "base",
   "language": "python",
   "name": "python3"
  },
  "language_info": {
   "codemirror_mode": {
    "name": "ipython",
    "version": 3
   },
   "file_extension": ".py",
   "mimetype": "text/x-python",
   "name": "python",
   "nbconvert_exporter": "python",
   "pygments_lexer": "ipython3",
   "version": "3.12.3"
  }
 },
 "nbformat": 4,
 "nbformat_minor": 2
}
