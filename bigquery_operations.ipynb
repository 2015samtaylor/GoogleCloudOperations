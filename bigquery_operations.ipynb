{
 "cells": [
  {
   "cell_type": "code",
   "execution_count": null,
   "metadata": {},
   "outputs": [],
   "source": [
    "%load_ext autoreload\n",
    "%autoreload 2\n",
    "import pysftp\n",
    "import os\n",
    "import pandas_gbq\n",
    "import pandas as pd\n",
    "from modules.buckets import *\n",
    "from modules.reproducibility import *\n",
    "from modules.stacking_bluff_asd import *\n",
    "from modules.sftp_ops import *\n",
    "import logging\n",
    "\n",
    "clear_logging_handlers()\n",
    "\n",
    "#Configure loggging\n",
    "logging.basicConfig(filename='logs/BigQuery.log', level=logging.INFO,\n",
    "                   format='%(asctime)s - %(message)s', datefmt='%d-%b-%y %H:%M:%S')\n",
    "logging.info('\\n\\n-------------New Big Query Logging Instance')\n",
    "\n",
    "# Set the GOOGLE_APPLICATION_CREDENTIALS environment variable in order to interact, import the SFTP password from the same file\n",
    "os.environ[\"GOOGLE_APPLICATION_CREDENTIALS\"] = 'powerschool-420113-db919282054b.json'\n",
    "    \n",
    "# ----------------------------------------------------------\n",
    "#Need to make this portion to where it assesses all files in the dir recursively. \n",
    "def main(SFTP_folder_name):\n",
    "\n",
    "    SFTP_folder_name  = initial_schema_check(SFTP_folder_name)\n",
    "    print(SFTP_folder_name)\n",
    "\n",
    "    instance = Create(\n",
    "                project_id='powerschool-420113',\n",
    "                location = 'us-south1',\n",
    "                bucket=f'{SFTP_folder_name}bucket-iotaschools-1',\n",
    "                local_dir = fr'S:\\SFTP\\{SFTP_folder_name}',\n",
    "                db = SFTP_folder_name,\n",
    "                append_or_replace='replace',\n",
    "                )\n",
    "    \n",
    "    instance.process()# Pass SFTP files into Bucket & then into Big Query tables\n",
    "\n",
    "#roughly 4 mins to stack and send to new dir\n",
    "directory_path_blf = r'S:\\SFTP\\powerschool_tpcsc'\n",
    "directory_path_asd = r'S:\\SFTP\\powerschool'\n",
    "output_directory = r'S:\\SFTP\\powerschool_combined'\n",
    "concat_files_from_directories(directory_path_blf, directory_path_asd, output_directory)\n",
    "\n",
    "main(\"powerschool_combined\")\n",
    "main(\"EIS\")\n",
    "logging.info('Process has reached the end\\n\\n')\n",
    "\n",
    "#Fix indentation of the logs\n",
    "#Implement new SFTP module"
   ]
  }
 ],
 "metadata": {
  "kernelspec": {
   "display_name": "base",
   "language": "python",
   "name": "python3"
  },
  "language_info": {
   "codemirror_mode": {
    "name": "ipython",
    "version": 3
   },
   "file_extension": ".py",
   "mimetype": "text/x-python",
   "name": "python",
   "nbconvert_exporter": "python",
   "pygments_lexer": "ipython3",
   "version": "3.12.3"
  }
 },
 "nbformat": 4,
 "nbformat_minor": 2
}
